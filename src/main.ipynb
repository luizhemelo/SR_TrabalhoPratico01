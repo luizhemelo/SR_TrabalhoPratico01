{
 "cells": [
  {
   "cell_type": "code",
   "execution_count": 1,
   "id": "elementary-agreement",
   "metadata": {},
   "outputs": [],
   "source": [
    "import time\n",
    "from datetime import timedelta\n",
    "import matplotlib.pyplot as plt\n",
    "start = time.time()\n",
    "\n",
    "import numpy as np\n",
    "import pandas as pd\n",
    "OUTPUT_DIR = 'out.csv'"
   ]
  },
  {
   "cell_type": "markdown",
   "id": "moderate-place",
   "metadata": {},
   "source": [
    "#### Data import and treatment"
   ]
  },
  {
   "cell_type": "code",
   "execution_count": 2,
   "id": "sweet-congo",
   "metadata": {},
   "outputs": [],
   "source": [
    "# Data import\n",
    "_ratings = pd.read_csv('ratings.csv')\n",
    "_ratings.columns = ['UserId:ItemId', 'Rating', 'Timestamp']\n",
    "_targets = pd.read_csv('targets.csv')"
   ]
  },
  {
   "cell_type": "markdown",
   "id": "supreme-instrumentation",
   "metadata": {},
   "source": [
    "#### Preparing train/validation sets"
   ]
  },
  {
   "cell_type": "code",
   "execution_count": 3,
   "id": "frozen-spirit",
   "metadata": {},
   "outputs": [
    {
     "data": {
      "text/html": [
       "<div>\n",
       "<style scoped>\n",
       "    .dataframe tbody tr th:only-of-type {\n",
       "        vertical-align: middle;\n",
       "    }\n",
       "\n",
       "    .dataframe tbody tr th {\n",
       "        vertical-align: top;\n",
       "    }\n",
       "\n",
       "    .dataframe thead th {\n",
       "        text-align: right;\n",
       "    }\n",
       "</style>\n",
       "<table border=\"1\" class=\"dataframe\">\n",
       "  <thead>\n",
       "    <tr style=\"text-align: right;\">\n",
       "      <th></th>\n",
       "      <th>Rating</th>\n",
       "      <th>Timestamp</th>\n",
       "      <th>UserId</th>\n",
       "      <th>ItemId</th>\n",
       "    </tr>\n",
       "  </thead>\n",
       "  <tbody>\n",
       "    <tr>\n",
       "      <th>0</th>\n",
       "      <td>4</td>\n",
       "      <td>1376871195</td>\n",
       "      <td>u0025489</td>\n",
       "      <td>i1815862</td>\n",
       "    </tr>\n",
       "    <tr>\n",
       "      <th>1</th>\n",
       "      <td>10</td>\n",
       "      <td>1368224192</td>\n",
       "      <td>u0017621</td>\n",
       "      <td>i0061512</td>\n",
       "    </tr>\n",
       "    <tr>\n",
       "      <th>2</th>\n",
       "      <td>8</td>\n",
       "      <td>1380936458</td>\n",
       "      <td>u0011357</td>\n",
       "      <td>i0325980</td>\n",
       "    </tr>\n",
       "    <tr>\n",
       "      <th>3</th>\n",
       "      <td>7</td>\n",
       "      <td>1402757115</td>\n",
       "      <td>u0026311</td>\n",
       "      <td>i0452623</td>\n",
       "    </tr>\n",
       "    <tr>\n",
       "      <th>4</th>\n",
       "      <td>5</td>\n",
       "      <td>1367131617</td>\n",
       "      <td>u0033649</td>\n",
       "      <td>i1990314</td>\n",
       "    </tr>\n",
       "  </tbody>\n",
       "</table>\n",
       "</div>"
      ],
      "text/plain": [
       "   Rating   Timestamp    UserId    ItemId\n",
       "0       4  1376871195  u0025489  i1815862\n",
       "1      10  1368224192  u0017621  i0061512\n",
       "2       8  1380936458  u0011357  i0325980\n",
       "3       7  1402757115  u0026311  i0452623\n",
       "4       5  1367131617  u0033649  i1990314"
      ]
     },
     "execution_count": 3,
     "metadata": {},
     "output_type": "execute_result"
    }
   ],
   "source": [
    "# Shuffle data\n",
    "_ratings = _ratings.sample(frac=1).reset_index(drop=True)\n",
    "\n",
    "# Separate first column\n",
    "sep = _ratings['UserId:ItemId'].str.split(':', expand=True)\n",
    "sep.columns = ['UserId', 'ItemId']\n",
    "_ratings = pd.concat([_ratings, sep], axis=1)\n",
    "\n",
    "# Delete columns\n",
    "_ratings = _ratings.drop(['UserId:ItemId'], axis=1)\n",
    "del sep\n",
    "\n",
    "_ratings.head()"
   ]
  },
  {
   "cell_type": "code",
   "execution_count": 4,
   "id": "enhanced-ottawa",
   "metadata": {},
   "outputs": [
    {
     "data": {
      "text/plain": [
       "(336672, 4)"
      ]
     },
     "execution_count": 4,
     "metadata": {},
     "output_type": "execute_result"
    }
   ],
   "source": [
    "_ratings.shape"
   ]
  },
  {
   "cell_type": "markdown",
   "id": "covered-arabic",
   "metadata": {},
   "source": [
    "#### Encoding users/items"
   ]
  },
  {
   "cell_type": "code",
   "execution_count": 5,
   "id": "attached-birthday",
   "metadata": {},
   "outputs": [],
   "source": [
    "def encode_column(column):\n",
    "    keys = column.unique()\n",
    "    key_to_id = {key:idx for idx,key in enumerate(keys)}\n",
    "    return key_to_id, np.array([key_to_id[x] for x in column]), len(keys)"
   ]
  },
  {
   "cell_type": "code",
   "execution_count": 6,
   "id": "certified-haven",
   "metadata": {},
   "outputs": [],
   "source": [
    "def encode_df(df):\n",
    "    item_ids, df.loc[:,'ItemId'], num_item = encode_column(df['ItemId'].copy())\n",
    "    user_ids, df.loc[:,'UserId'], num_users = encode_column(df['UserId'].copy())\n",
    "    return df, num_users, num_item, user_ids, item_ids"
   ]
  },
  {
   "cell_type": "code",
   "execution_count": 7,
   "id": "atmospheric-violin",
   "metadata": {},
   "outputs": [
    {
     "name": "stdout",
     "output_type": "stream",
     "text": [
      "Number of users : 34105\n",
      "Number of items : 19498\n"
     ]
    },
    {
     "data": {
      "text/html": [
       "<div>\n",
       "<style scoped>\n",
       "    .dataframe tbody tr th:only-of-type {\n",
       "        vertical-align: middle;\n",
       "    }\n",
       "\n",
       "    .dataframe tbody tr th {\n",
       "        vertical-align: top;\n",
       "    }\n",
       "\n",
       "    .dataframe thead th {\n",
       "        text-align: right;\n",
       "    }\n",
       "</style>\n",
       "<table border=\"1\" class=\"dataframe\">\n",
       "  <thead>\n",
       "    <tr style=\"text-align: right;\">\n",
       "      <th></th>\n",
       "      <th>Rating</th>\n",
       "      <th>Timestamp</th>\n",
       "      <th>UserId</th>\n",
       "      <th>ItemId</th>\n",
       "    </tr>\n",
       "  </thead>\n",
       "  <tbody>\n",
       "    <tr>\n",
       "      <th>0</th>\n",
       "      <td>4</td>\n",
       "      <td>1376871195</td>\n",
       "      <td>0</td>\n",
       "      <td>0</td>\n",
       "    </tr>\n",
       "    <tr>\n",
       "      <th>1</th>\n",
       "      <td>10</td>\n",
       "      <td>1368224192</td>\n",
       "      <td>1</td>\n",
       "      <td>1</td>\n",
       "    </tr>\n",
       "    <tr>\n",
       "      <th>2</th>\n",
       "      <td>8</td>\n",
       "      <td>1380936458</td>\n",
       "      <td>2</td>\n",
       "      <td>2</td>\n",
       "    </tr>\n",
       "    <tr>\n",
       "      <th>3</th>\n",
       "      <td>7</td>\n",
       "      <td>1402757115</td>\n",
       "      <td>3</td>\n",
       "      <td>3</td>\n",
       "    </tr>\n",
       "    <tr>\n",
       "      <th>4</th>\n",
       "      <td>5</td>\n",
       "      <td>1367131617</td>\n",
       "      <td>4</td>\n",
       "      <td>4</td>\n",
       "    </tr>\n",
       "  </tbody>\n",
       "</table>\n",
       "</div>"
      ],
      "text/plain": [
       "   Rating   Timestamp  UserId  ItemId\n",
       "0       4  1376871195       0       0\n",
       "1      10  1368224192       1       1\n",
       "2       8  1380936458       2       2\n",
       "3       7  1402757115       3       3\n",
       "4       5  1367131617       4       4"
      ]
     },
     "execution_count": 7,
     "metadata": {},
     "output_type": "execute_result"
    }
   ],
   "source": [
    "df, num_users, num_item, user_ids, item_ids = encode_df(_ratings)\n",
    "print(\"Number of users :\", num_users)\n",
    "print(\"Number of items :\", num_item)\n",
    "df.head()"
   ]
  },
  {
   "cell_type": "markdown",
   "id": "agreed-romania",
   "metadata": {},
   "source": [
    "#### Pre-processing"
   ]
  },
  {
   "cell_type": "code",
   "execution_count": 8,
   "id": "satisfactory-animation",
   "metadata": {},
   "outputs": [
    {
     "name": "stdout",
     "output_type": "stream",
     "text": [
      "34105 unique users\n",
      "19498 unique items\n",
      "11 unique ratings\n"
     ]
    }
   ],
   "source": [
    "n_users = df[\"UserId\"].unique().shape[0]\n",
    "n_items = df[\"ItemId\"].unique().shape[0]\n",
    "n_rating = df[\"Rating\"].unique().shape[0]\n",
    "print ('%i unique users' %n_users)\n",
    "print ('%i unique items' %n_items)\n",
    "print ('%i unique ratings' %n_rating)"
   ]
  },
  {
   "cell_type": "code",
   "execution_count": 9,
   "id": "generous-chassis",
   "metadata": {},
   "outputs": [],
   "source": [
    "# create a sparse user-item matrix\n",
    "ratings = df.pivot(index=\"UserId\", columns=\"ItemId\", values=\"Rating\")\n",
    "ratings = ratings.fillna(0).values"
   ]
  },
  {
   "cell_type": "code",
   "execution_count": 10,
   "id": "educational-horse",
   "metadata": {},
   "outputs": [
    {
     "name": "stdout",
     "output_type": "stream",
     "text": [
      "percentage of user-items that have a rating: 0.05%\n"
     ]
    }
   ],
   "source": [
    "sparsity = float(len(ratings.nonzero()[0]))\n",
    "sparsity /= (ratings.shape[0] * ratings.shape[1])\n",
    "sparsity *= 100\n",
    "print ('percentage of user-items that have a rating: {:.2f}%'.format(sparsity))"
   ]
  },
  {
   "cell_type": "code",
   "execution_count": 11,
   "id": "smart-wednesday",
   "metadata": {},
   "outputs": [],
   "source": [
    "# This creats a validation dataset by selecting rows (user) that have 35 or more ratings, then randomly select 15 of those ratings\n",
    "# For validation set, but set those values to 0 in the training set.\n",
    "\n",
    "def train_test_split(ratings):\n",
    "    validation = np.zeros(ratings.shape)\n",
    "    train = ratings.copy() #don't do train=ratings, other wise, ratings becomes empty\n",
    "    \n",
    "    for user in np.arange(ratings.shape[0]):\n",
    "        if len(ratings[user,:].nonzero()[0])>=35:  # 35 seems to be best, it depends on sparsity of your user-item matrix\n",
    "            val_ratings = np.random.choice(ratings[user, :].nonzero()[0], \n",
    "                                        size=15, #tweak this, 15 seems to be optimal\n",
    "                                        replace=False)\n",
    "            train[user, val_ratings] = 0\n",
    "            validation[user, val_ratings] = ratings[user, val_ratings]\n",
    "    print(validation.shape)\n",
    "    return train, validation"
   ]
  },
  {
   "cell_type": "code",
   "execution_count": 12,
   "id": "stopped-ordinance",
   "metadata": {},
   "outputs": [
    {
     "name": "stdout",
     "output_type": "stream",
     "text": [
      "(34105, 19498)\n"
     ]
    }
   ],
   "source": [
    "train, val = train_test_split(ratings)"
   ]
  },
  {
   "cell_type": "markdown",
   "id": "provincial-anchor",
   "metadata": {},
   "source": [
    "#### Training model"
   ]
  },
  {
   "cell_type": "code",
   "execution_count": 13,
   "id": "opposite-highlight",
   "metadata": {},
   "outputs": [],
   "source": [
    "from sklearn.metrics import mean_squared_error\n",
    "from math import sqrt\n",
    "def rmse(prediction, ground_truth):\n",
    "    prediction = prediction[ground_truth.nonzero()].flatten() \n",
    "    ground_truth = ground_truth[ground_truth.nonzero()].flatten()\n",
    "    return sqrt(mean_squared_error(prediction, ground_truth))"
   ]
  },
  {
   "cell_type": "code",
   "execution_count": 14,
   "id": "limiting-technology",
   "metadata": {},
   "outputs": [],
   "source": [
    "lmbda = 0.2 # Regularization parameter\n",
    "k = 3 # tweak this parameter\n",
    "n_epochs = 45  # Number of epochs\n",
    "alpha=0.01  # Learning rate\n",
    "\n",
    "m, n = train.shape  # Number of users and items\n",
    "P = 3 * np.random.rand(k,m) # Latent user feature matrix\n",
    "Q = 3 * np.random.rand(k,n) # Latent movie feature matrix"
   ]
  },
  {
   "cell_type": "code",
   "execution_count": 15,
   "id": "turkish-bleeding",
   "metadata": {},
   "outputs": [],
   "source": [
    "#P is latent user feature matrix\n",
    "#Q is latent item feature matrix\n",
    "def prediction(P,Q):\n",
    "    return np.dot(P.T,Q)"
   ]
  },
  {
   "cell_type": "code",
   "execution_count": 16,
   "id": "interesting-headset",
   "metadata": {},
   "outputs": [
    {
     "name": "stdout",
     "output_type": "stream",
     "text": [
      "(Epoch: 1 ) Train RMSE: 1.9991245247460432 - Validation RMSE: 1.844467873676309\n",
      "Time elapsed: 0:02:14.311343 \n",
      "\n",
      "Time elapsed: 0:02:57.390971 \n",
      "\n",
      "Time elapsed: 0:03:40.928962 \n",
      "\n",
      "Time elapsed: 0:04:24.035424 \n",
      "\n",
      "Time elapsed: 0:05:05.993669 \n",
      "\n",
      "(Epoch: 6 ) Train RMSE: 1.4713950575358874 - Validation RMSE: 1.574093675835482\n",
      "Time elapsed: 0:05:49.568106 \n",
      "\n",
      "Time elapsed: 0:06:30.725286 \n",
      "\n",
      "Time elapsed: 0:07:13.415862 \n",
      "\n"
     ]
    },
    {
     "ename": "KeyboardInterrupt",
     "evalue": "",
     "output_type": "error",
     "traceback": [
      "\u001b[0;31m---------------------------------------------------------------------------\u001b[0m",
      "\u001b[0;31mKeyboardInterrupt\u001b[0m                         Traceback (most recent call last)",
      "\u001b[0;32m<ipython-input-16-1635f0aa6c78>\u001b[0m in \u001b[0;36m<module>\u001b[0;34m\u001b[0m\n\u001b[1;32m     10\u001b[0m         \u001b[0mQ\u001b[0m\u001b[0;34m[\u001b[0m\u001b[0;34m:\u001b[0m\u001b[0;34m,\u001b[0m\u001b[0mi\u001b[0m\u001b[0;34m]\u001b[0m \u001b[0;34m+=\u001b[0m \u001b[0malpha\u001b[0m \u001b[0;34m*\u001b[0m \u001b[0;34m(\u001b[0m \u001b[0me\u001b[0m \u001b[0;34m*\u001b[0m \u001b[0mP\u001b[0m\u001b[0;34m[\u001b[0m\u001b[0;34m:\u001b[0m\u001b[0;34m,\u001b[0m\u001b[0mu\u001b[0m\u001b[0;34m]\u001b[0m \u001b[0;34m-\u001b[0m \u001b[0mlmbda\u001b[0m \u001b[0;34m*\u001b[0m \u001b[0mQ\u001b[0m\u001b[0;34m[\u001b[0m\u001b[0;34m:\u001b[0m\u001b[0;34m,\u001b[0m\u001b[0mi\u001b[0m\u001b[0;34m]\u001b[0m\u001b[0;34m)\u001b[0m  \u001b[0;31m# Update latent item feature matrix\u001b[0m\u001b[0;34m\u001b[0m\u001b[0;34m\u001b[0m\u001b[0m\n\u001b[1;32m     11\u001b[0m \u001b[0;34m\u001b[0m\u001b[0m\n\u001b[0;32m---> 12\u001b[0;31m     \u001b[0mtrain_rmse\u001b[0m \u001b[0;34m=\u001b[0m \u001b[0mrmse\u001b[0m\u001b[0;34m(\u001b[0m\u001b[0mprediction\u001b[0m\u001b[0;34m(\u001b[0m\u001b[0mP\u001b[0m\u001b[0;34m,\u001b[0m\u001b[0mQ\u001b[0m\u001b[0;34m)\u001b[0m\u001b[0;34m,\u001b[0m\u001b[0mtrain\u001b[0m\u001b[0;34m)\u001b[0m\u001b[0;34m\u001b[0m\u001b[0;34m\u001b[0m\u001b[0m\n\u001b[0m\u001b[1;32m     13\u001b[0m     \u001b[0mval_rmse\u001b[0m \u001b[0;34m=\u001b[0m \u001b[0mrmse\u001b[0m\u001b[0;34m(\u001b[0m\u001b[0mprediction\u001b[0m\u001b[0;34m(\u001b[0m\u001b[0mP\u001b[0m\u001b[0;34m,\u001b[0m\u001b[0mQ\u001b[0m\u001b[0;34m)\u001b[0m\u001b[0;34m,\u001b[0m\u001b[0mval\u001b[0m\u001b[0;34m)\u001b[0m\u001b[0;34m\u001b[0m\u001b[0;34m\u001b[0m\u001b[0m\n\u001b[1;32m     14\u001b[0m \u001b[0;34m\u001b[0m\u001b[0m\n",
      "\u001b[0;32m<ipython-input-13-dc50e85ac95b>\u001b[0m in \u001b[0;36mrmse\u001b[0;34m(prediction, ground_truth)\u001b[0m\n\u001b[1;32m      3\u001b[0m \u001b[0;32mdef\u001b[0m \u001b[0mrmse\u001b[0m\u001b[0;34m(\u001b[0m\u001b[0mprediction\u001b[0m\u001b[0;34m,\u001b[0m \u001b[0mground_truth\u001b[0m\u001b[0;34m)\u001b[0m\u001b[0;34m:\u001b[0m\u001b[0;34m\u001b[0m\u001b[0;34m\u001b[0m\u001b[0m\n\u001b[1;32m      4\u001b[0m     \u001b[0mprediction\u001b[0m \u001b[0;34m=\u001b[0m \u001b[0mprediction\u001b[0m\u001b[0;34m[\u001b[0m\u001b[0mground_truth\u001b[0m\u001b[0;34m.\u001b[0m\u001b[0mnonzero\u001b[0m\u001b[0;34m(\u001b[0m\u001b[0;34m)\u001b[0m\u001b[0;34m]\u001b[0m\u001b[0;34m.\u001b[0m\u001b[0mflatten\u001b[0m\u001b[0;34m(\u001b[0m\u001b[0;34m)\u001b[0m\u001b[0;34m\u001b[0m\u001b[0;34m\u001b[0m\u001b[0m\n\u001b[0;32m----> 5\u001b[0;31m     \u001b[0mground_truth\u001b[0m \u001b[0;34m=\u001b[0m \u001b[0mground_truth\u001b[0m\u001b[0;34m[\u001b[0m\u001b[0mground_truth\u001b[0m\u001b[0;34m.\u001b[0m\u001b[0mnonzero\u001b[0m\u001b[0;34m(\u001b[0m\u001b[0;34m)\u001b[0m\u001b[0;34m]\u001b[0m\u001b[0;34m.\u001b[0m\u001b[0mflatten\u001b[0m\u001b[0;34m(\u001b[0m\u001b[0;34m)\u001b[0m\u001b[0;34m\u001b[0m\u001b[0;34m\u001b[0m\u001b[0m\n\u001b[0m\u001b[1;32m      6\u001b[0m     \u001b[0;32mreturn\u001b[0m \u001b[0msqrt\u001b[0m\u001b[0;34m(\u001b[0m\u001b[0mmean_squared_error\u001b[0m\u001b[0;34m(\u001b[0m\u001b[0mprediction\u001b[0m\u001b[0;34m,\u001b[0m \u001b[0mground_truth\u001b[0m\u001b[0;34m)\u001b[0m\u001b[0;34m)\u001b[0m\u001b[0;34m\u001b[0m\u001b[0;34m\u001b[0m\u001b[0m\n",
      "\u001b[0;31mKeyboardInterrupt\u001b[0m: "
     ]
    }
   ],
   "source": [
    "train_errors = []\n",
    "val_errors = []\n",
    "\n",
    "#Only consider items with ratings \n",
    "users,items = train.nonzero()      \n",
    "for epoch in range(n_epochs):\n",
    "    for u, i in zip(users,items):\n",
    "        e = train[u, i] - prediction(P[:,u],Q[:,i])  # Calculate error for gradient update\n",
    "        P[:,u] += alpha * ( e * Q[:,i] - lmbda * P[:,u]) # Update latent user feature matrix\n",
    "        Q[:,i] += alpha * ( e * P[:,u] - lmbda * Q[:,i])  # Update latent item feature matrix\n",
    "    \n",
    "    train_rmse = rmse(prediction(P,Q),train)\n",
    "    val_rmse = rmse(prediction(P,Q),val)\n",
    "    \n",
    "    if (epoch%5==0): \n",
    "        print(\"(Epoch:\", epoch+1, \") Train RMSE:\", train_rmse, \"- Validation RMSE:\", val_rmse)\n",
    "        elapsed = (time.time()-start)\n",
    "        print(\"Time elapsed:\",str(timedelta(seconds=elapsed)), \"\\n\")\n",
    "    \n",
    "    train_errors.append(train_rmse)\n",
    "    val_errors.append(val_rmse)"
   ]
  },
  {
   "cell_type": "code",
   "execution_count": null,
   "id": "educational-rachel",
   "metadata": {},
   "outputs": [],
   "source": [
    "%matplotlib inline\n",
    "\n",
    "plt.plot(range(n_epochs), train_errors, marker='o', label='Training Data');\n",
    "plt.plot(range(n_epochs), val_errors, marker='v', label='Validation Data');\n",
    "plt.xlabel('Number of Epochs');\n",
    "plt.ylabel('RMSE');\n",
    "plt.legend()\n",
    "plt.grid()\n",
    "plt.show()"
   ]
  },
  {
   "cell_type": "markdown",
   "id": "worthy-reggae",
   "metadata": {},
   "source": [
    "#### Generating targets output for submission"
   ]
  },
  {
   "cell_type": "code",
   "execution_count": null,
   "id": "toxic-joshua",
   "metadata": {},
   "outputs": [],
   "source": [
    "# recover the matrix of predictions\n",
    "SGD_predictions = prediction(P,Q)"
   ]
  },
  {
   "cell_type": "code",
   "execution_count": null,
   "id": "damaged-parcel",
   "metadata": {},
   "outputs": [],
   "source": [
    "mean = SGD_predictions.mean()"
   ]
  },
  {
   "cell_type": "code",
   "execution_count": null,
   "id": "included-smell",
   "metadata": {},
   "outputs": [],
   "source": [
    "_predictions = _targets.copy()\n",
    "_predictions['Prediction'] = 0"
   ]
  },
  {
   "cell_type": "code",
   "execution_count": null,
   "id": "searching-river",
   "metadata": {},
   "outputs": [],
   "source": [
    "# calculate user/item means just if necessary\n",
    "for i in range(_predictions.shape[0]):\n",
    "    inf = _predictions['UserId:ItemId'][i].split(':')\n",
    "    \n",
    "    if inf[0] not in user_ids:\n",
    "        if inf[1] not in item_ids:  # if theres no one in data base\n",
    "            _predictions.loc[i, 'Prediction'] = mean\n",
    "        else:  # if user not in data base - calculate item means\n",
    "            _predictions.loc[i, 'Prediction'] = np.mean(SGD_predictions[:][item_ids[inf[1]]])\n",
    "        \n",
    "    elif inf[1] not in item_ids:\n",
    "        if inf[0] not in user_ids:  # if theres no one in data base\n",
    "            _predictions.loc[i, 'Prediction'] = mean\n",
    "        else:  # if item not in data base - calculate user means\n",
    "            _predictions.loc[i, 'Prediction'] = np.mean(SGD_predictions[user_ids[inf[0]]][:])\n",
    "        \n",
    "    else:\n",
    "        _predictions.loc[i, 'Prediction'] = SGD_predictions[user_ids[inf[0]]][item_ids[inf[1]]]"
   ]
  },
  {
   "cell_type": "code",
   "execution_count": null,
   "id": "constant-peeing",
   "metadata": {},
   "outputs": [],
   "source": [
    "_predictions.head()"
   ]
  },
  {
   "cell_type": "code",
   "execution_count": null,
   "id": "russian-dispute",
   "metadata": {},
   "outputs": [],
   "source": [
    "_predictions.shape"
   ]
  },
  {
   "cell_type": "code",
   "execution_count": null,
   "id": "comprehensive-projector",
   "metadata": {},
   "outputs": [],
   "source": [
    "_predictions.to_csv(OUTPUT_DIR, index=False)"
   ]
  },
  {
   "cell_type": "code",
   "execution_count": null,
   "id": "running-chorus",
   "metadata": {},
   "outputs": [],
   "source": [
    "elapsed = (time.time()-start)\n",
    "print(\"Time elapsed:\",str(timedelta(seconds=elapsed)), \"\\n\")"
   ]
  },
  {
   "cell_type": "code",
   "execution_count": null,
   "id": "nonprofit-opening",
   "metadata": {},
   "outputs": [],
   "source": []
  }
 ],
 "metadata": {
  "kernelspec": {
   "display_name": "Python 3.7.4 64-bit ('base': conda)",
   "language": "python",
   "name": "python37464bitbasecondabb5af891ef1044d7be15a697e9ceaf9c"
  },
  "language_info": {
   "codemirror_mode": {
    "name": "ipython",
    "version": 3
   },
   "file_extension": ".py",
   "mimetype": "text/x-python",
   "name": "python",
   "nbconvert_exporter": "python",
   "pygments_lexer": "ipython3",
   "version": "3.7.7"
  }
 },
 "nbformat": 4,
 "nbformat_minor": 5
}
