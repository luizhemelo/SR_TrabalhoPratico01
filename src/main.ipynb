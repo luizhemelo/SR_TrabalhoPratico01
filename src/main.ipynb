{
 "cells": [
  {
   "cell_type": "code",
   "execution_count": 1,
   "id": "adaptive-moment",
   "metadata": {},
   "outputs": [],
   "source": [
    "import time\n",
    "from datetime import timedelta\n",
    "import matplotlib.pyplot as plt\n",
    "start = time.time()\n",
    "\n",
    "import numpy as np\n",
    "import pandas as pd\n",
    "OUTPUT_DIR = 'out.csv'"
   ]
  },
  {
   "cell_type": "markdown",
   "id": "scenic-firmware",
   "metadata": {},
   "source": [
    "#### Data import and treatment"
   ]
  },
  {
   "cell_type": "code",
   "execution_count": 2,
   "id": "interpreted-windsor",
   "metadata": {},
   "outputs": [],
   "source": [
    "# Data import\n",
    "_ratings = pd.read_csv('ratings.csv')\n",
    "_ratings.columns = ['UserId:ItemId', 'Rating', 'Timestamp']\n",
    "_targets = pd.read_csv('targets.csv')"
   ]
  },
  {
   "cell_type": "markdown",
   "id": "lyric-asthma",
   "metadata": {},
   "source": [
    "#### Preparing train/validation sets"
   ]
  },
  {
   "cell_type": "code",
   "execution_count": 3,
   "id": "indirect-minister",
   "metadata": {},
   "outputs": [
    {
     "data": {
      "text/html": [
       "<div>\n",
       "<style scoped>\n",
       "    .dataframe tbody tr th:only-of-type {\n",
       "        vertical-align: middle;\n",
       "    }\n",
       "\n",
       "    .dataframe tbody tr th {\n",
       "        vertical-align: top;\n",
       "    }\n",
       "\n",
       "    .dataframe thead th {\n",
       "        text-align: right;\n",
       "    }\n",
       "</style>\n",
       "<table border=\"1\" class=\"dataframe\">\n",
       "  <thead>\n",
       "    <tr style=\"text-align: right;\">\n",
       "      <th></th>\n",
       "      <th>Rating</th>\n",
       "      <th>Timestamp</th>\n",
       "      <th>UserId</th>\n",
       "      <th>ItemId</th>\n",
       "    </tr>\n",
       "  </thead>\n",
       "  <tbody>\n",
       "    <tr>\n",
       "      <th>0</th>\n",
       "      <td>9</td>\n",
       "      <td>1364860263</td>\n",
       "      <td>u0036269</td>\n",
       "      <td>i1024648</td>\n",
       "    </tr>\n",
       "    <tr>\n",
       "      <th>1</th>\n",
       "      <td>7</td>\n",
       "      <td>1388269289</td>\n",
       "      <td>u0019927</td>\n",
       "      <td>i2024519</td>\n",
       "    </tr>\n",
       "    <tr>\n",
       "      <th>2</th>\n",
       "      <td>8</td>\n",
       "      <td>1363567206</td>\n",
       "      <td>u0023940</td>\n",
       "      <td>i1045658</td>\n",
       "    </tr>\n",
       "    <tr>\n",
       "      <th>3</th>\n",
       "      <td>8</td>\n",
       "      <td>1380344340</td>\n",
       "      <td>u0029440</td>\n",
       "      <td>i1979320</td>\n",
       "    </tr>\n",
       "    <tr>\n",
       "      <th>4</th>\n",
       "      <td>4</td>\n",
       "      <td>1402974277</td>\n",
       "      <td>u0012421</td>\n",
       "      <td>i1939659</td>\n",
       "    </tr>\n",
       "  </tbody>\n",
       "</table>\n",
       "</div>"
      ],
      "text/plain": [
       "   Rating   Timestamp    UserId    ItemId\n",
       "0       9  1364860263  u0036269  i1024648\n",
       "1       7  1388269289  u0019927  i2024519\n",
       "2       8  1363567206  u0023940  i1045658\n",
       "3       8  1380344340  u0029440  i1979320\n",
       "4       4  1402974277  u0012421  i1939659"
      ]
     },
     "execution_count": 3,
     "metadata": {},
     "output_type": "execute_result"
    }
   ],
   "source": [
    "# Shuffle data\n",
    "_ratings = _ratings.sample(frac=1).reset_index(drop=True)\n",
    "\n",
    "# Separate first column\n",
    "sep = _ratings['UserId:ItemId'].str.split(':', expand=True)\n",
    "sep.columns = ['UserId', 'ItemId']\n",
    "_ratings = pd.concat([_ratings, sep], axis=1)\n",
    "\n",
    "# Delete columns\n",
    "_ratings = _ratings.drop(['UserId:ItemId'], axis=1)\n",
    "del sep\n",
    "\n",
    "_ratings.head()"
   ]
  },
  {
   "cell_type": "code",
   "execution_count": 4,
   "id": "overhead-associate",
   "metadata": {},
   "outputs": [
    {
     "data": {
      "text/plain": [
       "(336672, 4)"
      ]
     },
     "execution_count": 4,
     "metadata": {},
     "output_type": "execute_result"
    }
   ],
   "source": [
    "_ratings.shape"
   ]
  },
  {
   "cell_type": "markdown",
   "id": "tested-cricket",
   "metadata": {},
   "source": [
    "#### Encoding users/items"
   ]
  },
  {
   "cell_type": "code",
   "execution_count": 5,
   "id": "later-karaoke",
   "metadata": {},
   "outputs": [],
   "source": [
    "def encode_column(column):\n",
    "    keys = column.unique()\n",
    "    key_to_id = {key:idx for idx,key in enumerate(keys)}\n",
    "    return key_to_id, np.array([key_to_id[x] for x in column]), len(keys)"
   ]
  },
  {
   "cell_type": "code",
   "execution_count": 6,
   "id": "finnish-angle",
   "metadata": {},
   "outputs": [],
   "source": [
    "def encode_df(df):\n",
    "    item_ids, df.loc[:,'ItemId'], num_item = encode_column(df['ItemId'].copy())\n",
    "    user_ids, df.loc[:,'UserId'], num_users = encode_column(df['UserId'].copy())\n",
    "    return df, num_users, num_item, user_ids, item_ids"
   ]
  },
  {
   "cell_type": "code",
   "execution_count": 7,
   "id": "noticed-decade",
   "metadata": {},
   "outputs": [
    {
     "name": "stdout",
     "output_type": "stream",
     "text": [
      "Number of users : 34105\n",
      "Number of items : 19498\n"
     ]
    },
    {
     "data": {
      "text/html": [
       "<div>\n",
       "<style scoped>\n",
       "    .dataframe tbody tr th:only-of-type {\n",
       "        vertical-align: middle;\n",
       "    }\n",
       "\n",
       "    .dataframe tbody tr th {\n",
       "        vertical-align: top;\n",
       "    }\n",
       "\n",
       "    .dataframe thead th {\n",
       "        text-align: right;\n",
       "    }\n",
       "</style>\n",
       "<table border=\"1\" class=\"dataframe\">\n",
       "  <thead>\n",
       "    <tr style=\"text-align: right;\">\n",
       "      <th></th>\n",
       "      <th>Rating</th>\n",
       "      <th>Timestamp</th>\n",
       "      <th>UserId</th>\n",
       "      <th>ItemId</th>\n",
       "    </tr>\n",
       "  </thead>\n",
       "  <tbody>\n",
       "    <tr>\n",
       "      <th>0</th>\n",
       "      <td>9</td>\n",
       "      <td>1364860263</td>\n",
       "      <td>0</td>\n",
       "      <td>0</td>\n",
       "    </tr>\n",
       "    <tr>\n",
       "      <th>1</th>\n",
       "      <td>7</td>\n",
       "      <td>1388269289</td>\n",
       "      <td>1</td>\n",
       "      <td>1</td>\n",
       "    </tr>\n",
       "    <tr>\n",
       "      <th>2</th>\n",
       "      <td>8</td>\n",
       "      <td>1363567206</td>\n",
       "      <td>2</td>\n",
       "      <td>2</td>\n",
       "    </tr>\n",
       "    <tr>\n",
       "      <th>3</th>\n",
       "      <td>8</td>\n",
       "      <td>1380344340</td>\n",
       "      <td>3</td>\n",
       "      <td>3</td>\n",
       "    </tr>\n",
       "    <tr>\n",
       "      <th>4</th>\n",
       "      <td>4</td>\n",
       "      <td>1402974277</td>\n",
       "      <td>4</td>\n",
       "      <td>4</td>\n",
       "    </tr>\n",
       "  </tbody>\n",
       "</table>\n",
       "</div>"
      ],
      "text/plain": [
       "   Rating   Timestamp  UserId  ItemId\n",
       "0       9  1364860263       0       0\n",
       "1       7  1388269289       1       1\n",
       "2       8  1363567206       2       2\n",
       "3       8  1380344340       3       3\n",
       "4       4  1402974277       4       4"
      ]
     },
     "execution_count": 7,
     "metadata": {},
     "output_type": "execute_result"
    }
   ],
   "source": [
    "df, num_users, num_item, user_ids, item_ids = encode_df(_ratings)\n",
    "print(\"Number of users :\", num_users)\n",
    "print(\"Number of items :\", num_item)\n",
    "df.head()"
   ]
  },
  {
   "cell_type": "markdown",
   "id": "amateur-bride",
   "metadata": {},
   "source": [
    "#### Pre-processing"
   ]
  },
  {
   "cell_type": "code",
   "execution_count": 8,
   "id": "grand-modern",
   "metadata": {},
   "outputs": [
    {
     "name": "stdout",
     "output_type": "stream",
     "text": [
      "34105 unique users\n",
      "19498 unique items\n",
      "11 unique ratings\n"
     ]
    }
   ],
   "source": [
    "n_users = df[\"UserId\"].unique().shape[0]\n",
    "n_items = df[\"ItemId\"].unique().shape[0]\n",
    "n_rating = df[\"Rating\"].unique().shape[0]\n",
    "print ('%i unique users' %n_users)\n",
    "print ('%i unique items' %n_items)\n",
    "print ('%i unique ratings' %n_rating)"
   ]
  },
  {
   "cell_type": "code",
   "execution_count": 9,
   "id": "possible-anaheim",
   "metadata": {},
   "outputs": [],
   "source": [
    "# create a sparse user-item matrix\n",
    "ratings = df.pivot(index=\"UserId\", columns=\"ItemId\", values=\"Rating\")\n",
    "ratings = ratings.fillna(0).values"
   ]
  },
  {
   "cell_type": "code",
   "execution_count": 10,
   "id": "essential-conducting",
   "metadata": {},
   "outputs": [
    {
     "name": "stdout",
     "output_type": "stream",
     "text": [
      "percentage of user-items that have a rating: 0.05%\n"
     ]
    }
   ],
   "source": [
    "sparsity = float(len(ratings.nonzero()[0]))\n",
    "sparsity /= (ratings.shape[0] * ratings.shape[1])\n",
    "sparsity *= 100\n",
    "print ('percentage of user-items that have a rating: {:.2f}%'.format(sparsity))"
   ]
  },
  {
   "cell_type": "code",
   "execution_count": 11,
   "id": "bridal-offering",
   "metadata": {},
   "outputs": [],
   "source": [
    "# This creats a validation dataset by selecting rows (user) that have 35 or more ratings, then randomly select 15 of those ratings\n",
    "# For validation set, but set those values to 0 in the training set.\n",
    "\n",
    "def train_test_split(ratings):\n",
    "    validation = np.zeros(ratings.shape)\n",
    "    train = ratings.copy() #don't do train=ratings, other wise, ratings becomes empty\n",
    "    \n",
    "    for user in np.arange(ratings.shape[0]):\n",
    "        if len(ratings[user,:].nonzero()[0])>=35:  # 35 seems to be best, it depends on sparsity of your user-item matrix\n",
    "            val_ratings = np.random.choice(ratings[user, :].nonzero()[0], \n",
    "                                        size=15, #tweak this, 15 seems to be optimal\n",
    "                                        replace=False)\n",
    "            train[user, val_ratings] = 0\n",
    "            validation[user, val_ratings] = ratings[user, val_ratings]\n",
    "    print(validation.shape)\n",
    "    return train, validation"
   ]
  },
  {
   "cell_type": "code",
   "execution_count": 12,
   "id": "diverse-waste",
   "metadata": {},
   "outputs": [
    {
     "name": "stdout",
     "output_type": "stream",
     "text": [
      "(34105, 19498)\n"
     ]
    }
   ],
   "source": [
    "train, val = train_test_split(ratings)"
   ]
  },
  {
   "cell_type": "markdown",
   "id": "sapphire-stuff",
   "metadata": {},
   "source": [
    "#### Training model"
   ]
  },
  {
   "cell_type": "code",
   "execution_count": 13,
   "id": "indoor-anthony",
   "metadata": {},
   "outputs": [],
   "source": [
    "from sklearn.metrics import mean_squared_error\n",
    "from math import sqrt\n",
    "def rmse(prediction, ground_truth):\n",
    "    prediction = prediction[ground_truth.nonzero()].flatten() \n",
    "    ground_truth = ground_truth[ground_truth.nonzero()].flatten()\n",
    "    return sqrt(mean_squared_error(prediction, ground_truth))"
   ]
  },
  {
   "cell_type": "code",
   "execution_count": 14,
   "id": "historic-hungarian",
   "metadata": {},
   "outputs": [],
   "source": [
    "lmbda = 0.2 # Regularization parameter\n",
    "k = 3 # tweak this parameter\n",
    "n_epochs = 45  # Number of epochs\n",
    "alpha=0.01  # Learning rate\n",
    "\n",
    "m, n = train.shape  # Number of users and items\n",
    "P = 3 * np.random.rand(k,m) # Latent user feature matrix\n",
    "Q = 3 * np.random.rand(k,n) # Latent movie feature matrix"
   ]
  },
  {
   "cell_type": "code",
   "execution_count": 15,
   "id": "golden-atlas",
   "metadata": {},
   "outputs": [],
   "source": [
    "#P is latent user feature matrix\n",
    "#Q is latent item feature matrix\n",
    "def prediction(P,Q):\n",
    "    return np.dot(P.T,Q)"
   ]
  },
  {
   "cell_type": "code",
   "execution_count": 16,
   "id": "physical-voluntary",
   "metadata": {},
   "outputs": [
    {
     "name": "stdout",
     "output_type": "stream",
     "text": [
      "(Epoch: 1 ) Train RMSE: 1.9939572352683754 - Validation RMSE: 1.8396431120215104\n",
      "Time elapsed: 0:02:24.666999 \n",
      "\n",
      "(Epoch: 6 ) Train RMSE: 1.4704081744138424 - Validation RMSE: 1.5697477889679752\n",
      "Time elapsed: 0:06:04.313085 \n",
      "\n",
      "(Epoch: 11 ) Train RMSE: 1.3621656501408617 - Validation RMSE: 1.5306697108205456\n",
      "Time elapsed: 0:10:42.816200 \n",
      "\n",
      "(Epoch: 16 ) Train RMSE: 1.3139208744968796 - Validation RMSE: 1.515955061502752\n",
      "Time elapsed: 0:14:59.993853 \n",
      "\n",
      "(Epoch: 21 ) Train RMSE: 1.2861217921733616 - Validation RMSE: 1.509132821858443\n",
      "Time elapsed: 0:19:03.750328 \n",
      "\n",
      "(Epoch: 26 ) Train RMSE: 1.2670947600252855 - Validation RMSE: 1.505904642721401\n",
      "Time elapsed: 0:23:09.403285 \n",
      "\n",
      "(Epoch: 31 ) Train RMSE: 1.2525234513805283 - Validation RMSE: 1.504570856658941\n",
      "Time elapsed: 0:27:16.245269 \n",
      "\n",
      "(Epoch: 36 ) Train RMSE: 1.2404778123491766 - Validation RMSE: 1.5042106582059769\n",
      "Time elapsed: 0:31:22.379436 \n",
      "\n",
      "(Epoch: 41 ) Train RMSE: 1.230033226707605 - Validation RMSE: 1.5042515303786776\n",
      "Time elapsed: 0:35:35.028551 \n",
      "\n"
     ]
    }
   ],
   "source": [
    "train_errors = []\n",
    "val_errors = []\n",
    "\n",
    "#Only consider items with ratings \n",
    "users,items = train.nonzero()      \n",
    "for epoch in range(n_epochs):\n",
    "    for u, i in zip(users,items):\n",
    "        e = train[u, i] - prediction(P[:,u],Q[:,i])  # Calculate error for gradient update\n",
    "        P[:,u] += alpha * ( e * Q[:,i] - lmbda * P[:,u]) # Update latent user feature matrix\n",
    "        Q[:,i] += alpha * ( e * P[:,u] - lmbda * Q[:,i])  # Update latent item feature matrix\n",
    "    \n",
    "    train_rmse = rmse(prediction(P,Q),train)\n",
    "    val_rmse = rmse(prediction(P,Q),val)\n",
    "    \n",
    "    if (epoch%5==0): \n",
    "        print(\"(Epoch:\", epoch+1, \") Train RMSE:\", train_rmse, \"- Validation RMSE:\", val_rmse)\n",
    "        elapsed = (time.time()-start)\n",
    "        print(\"Time elapsed:\",str(timedelta(seconds=elapsed)), \"\\n\")\n",
    "    \n",
    "    train_errors.append(train_rmse)\n",
    "    val_errors.append(val_rmse)"
   ]
  },
  {
   "cell_type": "code",
   "execution_count": 17,
   "id": "nervous-insight",
   "metadata": {},
   "outputs": [
    {
     "data": {
      "image/png": "[encoded data removed]",
      "text/plain": [
       "<Figure size 432x288 with 1 Axes>"
      ]
     },
     "metadata": {
      "needs_background": "light"
     },
     "output_type": "display_data"
    }
   ],
   "source": [
    "%matplotlib inline\n",
    "\n",
    "plt.plot(range(n_epochs), train_errors, marker='o', label='Training Data');\n",
    "plt.plot(range(n_epochs), val_errors, marker='v', label='Validation Data');\n",
    "plt.xlabel('Number of Epochs');\n",
    "plt.ylabel('RMSE');\n",
    "plt.legend()\n",
    "plt.grid()\n",
    "plt.show()"
   ]
  },
  {
   "cell_type": "markdown",
   "id": "liquid-edinburgh",
   "metadata": {},
   "source": [
    "#### Generating targets output for submission"
   ]
  },
  {
   "cell_type": "code",
   "execution_count": 18,
   "id": "recovered-selection",
   "metadata": {},
   "outputs": [],
   "source": [
    "# recover the matrix of predictions\n",
    "SGD_predictions = prediction(P,Q)"
   ]
  },
  {
   "cell_type": "code",
   "execution_count": 19,
   "id": "noticed-brass",
   "metadata": {},
   "outputs": [],
   "source": [
    "mean = SGD_predictions.mean()"
   ]
  },
  {
   "cell_type": "code",
   "execution_count": 20,
   "id": "indirect-qualification",
   "metadata": {},
   "outputs": [],
   "source": [
    "_predictions = _targets.copy()\n",
    "_predictions['Prediction'] = 0"
   ]
  },
  {
   "cell_type": "code",
   "execution_count": 21,
   "id": "cosmetic-haiti",
   "metadata": {},
   "outputs": [],
   "source": [
    "# calculate user/item means just if necessary\n",
    "for i in range(_predictions.shape[0]):\n",
    "    inf = _predictions['UserId:ItemId'][i].split(':')\n",
    "    \n",
    "    if inf[0] not in user_ids:\n",
    "        if inf[1] not in item_ids:  # if theres no one in data base\n",
    "            _predictions.loc[i, 'Prediction'] = mean\n",
    "        else:  # if user not in data base - calculate item means\n",
    "            _predictions.loc[i, 'Prediction'] = np.mean(SGD_predictions[:][item_ids[inf[1]]])\n",
    "        \n",
    "    elif inf[1] not in item_ids:\n",
    "        if inf[0] not in user_ids:  # if theres no one in data base\n",
    "            _predictions.loc[i, 'Prediction'] = mean\n",
    "        else:  # if item not in data base - calculate user means\n",
    "            _predictions.loc[i, 'Prediction'] = np.mean(SGD_predictions[user_ids[inf[0]]][:])\n",
    "        \n",
    "    else:\n",
    "        _predictions.loc[i, 'Prediction'] = SGD_predictions[user_ids[inf[0]]][item_ids[inf[1]]]"
   ]
  },
  {
   "cell_type": "code",
   "execution_count": 22,
   "id": "southeast-replacement",
   "metadata": {},
   "outputs": [
    {
     "data": {
      "text/html": [
       "<div>\n",
       "<style scoped>\n",
       "    .dataframe tbody tr th:only-of-type {\n",
       "        vertical-align: middle;\n",
       "    }\n",
       "\n",
       "    .dataframe tbody tr th {\n",
       "        vertical-align: top;\n",
       "    }\n",
       "\n",
       "    .dataframe thead th {\n",
       "        text-align: right;\n",
       "    }\n",
       "</style>\n",
       "<table border=\"1\" class=\"dataframe\">\n",
       "  <thead>\n",
       "    <tr style=\"text-align: right;\">\n",
       "      <th></th>\n",
       "      <th>UserId:ItemId</th>\n",
       "      <th>Prediction</th>\n",
       "    </tr>\n",
       "  </thead>\n",
       "  <tbody>\n",
       "    <tr>\n",
       "      <th>0</th>\n",
       "      <td>u0000039:i0060196</td>\n",
       "      <td>7.333772</td>\n",
       "    </tr>\n",
       "    <tr>\n",
       "      <th>1</th>\n",
       "      <td>u0000039:i0099077</td>\n",
       "      <td>7.543773</td>\n",
       "    </tr>\n",
       "    <tr>\n",
       "      <th>2</th>\n",
       "      <td>u0000039:i0102926</td>\n",
       "      <td>7.498639</td>\n",
       "    </tr>\n",
       "    <tr>\n",
       "      <th>3</th>\n",
       "      <td>u0000039:i0109830</td>\n",
       "      <td>7.480740</td>\n",
       "    </tr>\n",
       "    <tr>\n",
       "      <th>4</th>\n",
       "      <td>u0000039:i0113277</td>\n",
       "      <td>7.175158</td>\n",
       "    </tr>\n",
       "  </tbody>\n",
       "</table>\n",
       "</div>"
      ],
      "text/plain": [
       "       UserId:ItemId  Prediction\n",
       "0  u0000039:i0060196    7.333772\n",
       "1  u0000039:i0099077    7.543773\n",
       "2  u0000039:i0102926    7.498639\n",
       "3  u0000039:i0109830    7.480740\n",
       "4  u0000039:i0113277    7.175158"
      ]
     },
     "execution_count": 22,
     "metadata": {},
     "output_type": "execute_result"
    }
   ],
   "source": [
    "_predictions.head()"
   ]
  },
  {
   "cell_type": "code",
   "execution_count": 23,
   "id": "coordinated-reggae",
   "metadata": {},
   "outputs": [
    {
     "data": {
      "text/plain": [
       "(77276, 2)"
      ]
     },
     "execution_count": 23,
     "metadata": {},
     "output_type": "execute_result"
    }
   ],
   "source": [
    "_predictions.shape"
   ]
  },
  {
   "cell_type": "code",
   "execution_count": 24,
   "id": "understanding-chase",
   "metadata": {},
   "outputs": [],
   "source": [
    "_predictions.to_csv(OUTPUT_DIR, index=False)"
   ]
  },
  {
   "cell_type": "code",
   "execution_count": 25,
   "id": "square-stranger",
   "metadata": {},
   "outputs": [
    {
     "name": "stdout",
     "output_type": "stream",
     "text": [
      "Time elapsed: 0:39:24.080513 \n",
      "\n"
     ]
    }
   ],
   "source": [
    "elapsed = (time.time()-start)\n",
    "print(\"Time elapsed:\",str(timedelta(seconds=elapsed)), \"\\n\")"
   ]
  },
  {
   "cell_type": "code",
   "execution_count": null,
   "id": "brave-bookmark",
   "metadata": {},
   "outputs": [],
   "source": []
  }
 ],
 "metadata": {
  "kernelspec": {
   "display_name": "Python 3.7.4 64-bit ('base': conda)",
   "language": "python",
   "name": "python37464bitbasecondabb5af891ef1044d7be15a697e9ceaf9c"
  },
  "language_info": {
   "codemirror_mode": {
    "name": "ipython",
    "version": 3
   },
   "file_extension": ".py",
   "mimetype": "text/x-python",
   "name": "python",
   "nbconvert_exporter": "python",
   "pygments_lexer": "ipython3",
   "version": "3.7.7"
  }
 },
 "nbformat": 4,
 "nbformat_minor": 5
}
